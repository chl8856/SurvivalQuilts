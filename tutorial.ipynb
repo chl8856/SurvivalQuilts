{
 "cells": [
  {
   "cell_type": "code",
   "execution_count": 7,
   "id": "908fa5c8-c9f5-4356-a0d3-3c7e34c4bcac",
   "metadata": {},
   "outputs": [],
   "source": [
    "import numpy as np\n",
    "import pandas as pd\n",
    "import os \n",
    "import joblib\n",
    "\n",
    "import warnings\n",
    "warnings.filterwarnings('ignore')\n",
    "\n",
    "from pathlib import Path\n",
    "\n",
    "from sklearn.preprocessing import MinMaxScaler, StandardScaler\n",
    "from sklearn.model_selection import KFold"
   ]
  },
  {
   "cell_type": "code",
   "execution_count": null,
   "id": "d5730a23-112c-4cbd-9bad-82b776aa787d",
   "metadata": {
    "tags": []
   },
   "outputs": [],
   "source": [
    "from survivalquilts import SurvivalQuilts, get_tte_structured"
   ]
  },
  {
   "cell_type": "markdown",
   "id": "90109f17-e847-4ba4-a172-828c20be1b1b",
   "metadata": {},
   "source": [
    "### Import Data"
   ]
  },
  {
   "cell_type": "code",
   "execution_count": null,
   "id": "afc0dc4f",
   "metadata": {},
   "outputs": [],
   "source": [
    "df= pd.read_csv('./dataset/support_data.csv', index_col=0)"
   ]
  },
  {
   "cell_type": "code",
   "execution_count": null,
   "id": "76a19fba-d837-4f98-8fc7-2428838a546e",
   "metadata": {},
   "outputs": [],
   "source": [
    "T = df[['d.time']].reset_index(drop=True)\n",
    "Y = df[['death']].reset_index(drop=True)\n",
    "X = df.drop(columns=['d.time', 'death']).reset_index(drop=True)\n",
    "\n",
    "scaler = MinMaxScaler()\n",
    "X = pd.DataFrame(scaler.fit_transform(X), columns=list(X))\n",
    "\n",
    "T.columns = ['time']\n",
    "Y.columns = ['event']"
   ]
  },
  {
   "cell_type": "code",
   "execution_count": null,
   "id": "bafcb68f-e612-4449-82a2-0132dc13393a",
   "metadata": {},
   "outputs": [],
   "source": [
    "OUT_ITERATION = 5\n",
    "SEED          = 1234\n",
    "\n",
    "skf           = KFold(n_splits=OUT_ITERATION, random_state=SEED, shuffle=True)"
   ]
  },
  {
   "cell_type": "markdown",
   "id": "c058a814-6cb0-4ec8-b7ee-9142eeddc0da",
   "metadata": {},
   "source": [
    "### Set time-points of your interest"
   ]
  },
  {
   "cell_type": "code",
   "execution_count": null,
   "id": "7d8c9c12",
   "metadata": {},
   "outputs": [],
   "source": [
    "tmp = np.asarray(T[Y['event']==1])\n",
    "\n",
    "time_optimization = []\n",
    "for p in [10,20,30,40,50,60,70,80]:\n",
    "    time_optimization += [np.percentile(tmp, p)]"
   ]
  },
  {
   "cell_type": "code",
   "execution_count": null,
   "id": "241f4a4c-3a57-4d48-8f04-57c6c8a6b17a",
   "metadata": {},
   "outputs": [],
   "source": [
    "cv_ITR = 0\n",
    "\n",
    "print('CV ITR... ' + str(cv_ITR))\n",
    "\n",
    "tr_indx, te_indx = list(skf.split(X))[cv_ITR][0], list(skf.split(X))[cv_ITR][1]\n",
    "\n",
    "X_tr, X_te = X.loc[tr_indx].reset_index(drop=True), X.loc[te_indx].reset_index(drop=True)\n",
    "Y_tr, Y_te = Y.loc[tr_indx].reset_index(drop=True), Y.loc[te_indx].reset_index(drop=True)\n",
    "T_tr, T_te = T.loc[tr_indx].reset_index(drop=True), T.loc[te_indx].reset_index(drop=True)\n",
    "\n",
    "\n",
    "# to compute brier-score without error\n",
    "T_te2 = T_te.copy(deep=True)\n",
    "T_te2.loc[T_te2['time'] > T_tr['time'].max(), 'time'] = T_tr['time'].max()\n",
    "\n",
    "tr_tte_structured  = get_tte_structured(T_tr, Y_tr)\n",
    "te_tte_structured  = get_tte_structured(T_te, Y_te)\n",
    "te_tte_structured2 = get_tte_structured(T_te2, Y_te)"
   ]
  },
  {
   "cell_type": "code",
   "execution_count": null,
   "id": "52c2192a-a5e2-463a-92f0-eabba6e3a7d4",
   "metadata": {},
   "outputs": [],
   "source": [
    "model_sq = SurvivalQuilts(\n",
    "    baselines = {  'CoxPH': {'alpha': 0.05},\n",
    "                   'WeibullAFT': {'alpha': 0.05, 'penalizer':0.01, 'l1_ratio':0.},\n",
    "                   'LogNormalAFT': {'alpha': 0.05, 'penalizer':0.01, 'l1_ratio':0.},\n",
    "                   'LogLogisticAFT': {'alpha': 0.05, 'penalizer':0.01, 'l1_ratio':0.},\n",
    "                   'RSF': {'n_estimators': 100},  \n",
    "                   'ExtSurv': {'n_estimators': 100},\n",
    "                   'CoxBoost': {'n_estimators': 100} },\n",
    "    num_validation = 5,\n",
    "    num_outer      = 3,\n",
    "    num_bo         = 30,\n",
    "    random_seed    = 1234,\n",
    "    path           = './'\n",
    ")"
   ]
  },
  {
   "cell_type": "code",
   "execution_count": null,
   "id": "f25b008a-6a6c-4008-8e45-3ceac0f0abbb",
   "metadata": {
    "tags": []
   },
   "outputs": [],
   "source": [
    "model_sq.fit(X_tr, T_tr, Y_tr, time_optimization=time_optimization)"
   ]
  },
  {
   "cell_type": "code",
   "execution_count": null,
   "id": "e72f4048-d12d-4b71-82da-b37c1e47911d",
   "metadata": {},
   "outputs": [],
   "source": [
    "joblib.dump(model_sq, './trained_SQ.joblib')"
   ]
  },
  {
   "cell_type": "code",
   "execution_count": null,
   "id": "50a1ab94-6a55-46e0-9cfc-5f57c3dedb9f",
   "metadata": {},
   "outputs": [],
   "source": [
    "eval_times = [30, 60, 150, 300]"
   ]
  },
  {
   "cell_type": "code",
   "execution_count": null,
   "id": "cfce6b70-ac4c-4c0e-a2b5-6a3f3d760112",
   "metadata": {},
   "outputs": [],
   "source": [
    "from sksurv.metrics import concordance_index_ipcw, brier_score, integrated_brier_score\n",
    "\n",
    "pred = model_sq.predict(X_te, time_horizons=eval_times)\n",
    "\n",
    "metric_CINDEX = np.zeros([len(eval_times)])\n",
    "metric_BRIER = np.zeros([len(eval_times)])\n",
    "\n",
    "print('evaluating c-index & brier score')\n",
    "for t, eval_time in enumerate(eval_times):        \n",
    "    metric_CINDEX[t] = concordance_index_ipcw(tr_tte_structured, te_tte_structured, pred[:,t], tau=eval_time)[0]\n",
    "    metric_BRIER[t]  = brier_score(tr_tte_structured, te_tte_structured2, 1.- pred[:,t], times=eval_time)[1][0]\n",
    "\n",
    "print(metric_CINDEX)\n",
    "print(metric_BRIER)\n",
    "\n",
    "path = '/mnt/storage/personal/chlee/projects/medical/bormae-cag/death/survivalquilts' + '/itr{}/'.format(cv_ITR)\n",
    "\n",
    "if not os.path.exists(path + 'results/'):\n",
    "    os.makedirs(path + 'results/')\n",
    "        \n",
    "pd.DataFrame(metric_CINDEX.reshape([1,-1]), columns=eval_times, index=['itr{}'.format(cv_ITR)]).to_csv(path + 'results/cindex.csv')\n",
    "pd.DataFrame(metric_BRIER.reshape([1,-1]), columns=eval_times, index=['itr{}'.format(cv_ITR)]).to_csv(path + 'results/brier.csv')"
   ]
  }
 ],
 "metadata": {
  "kernelspec": {
   "display_name": "Python 3",
   "language": "python",
   "name": "python3"
  },
  "language_info": {
   "codemirror_mode": {
    "name": "ipython",
    "version": 3
   },
   "file_extension": ".py",
   "mimetype": "text/x-python",
   "name": "python",
   "nbconvert_exporter": "python",
   "pygments_lexer": "ipython3",
   "version": "3.8.15"
  },
  "vscode": {
   "interpreter": {
    "hash": "e93202a488b51c8dffc00e7ee7b6164857127814816021029b15303bf5c676bb"
   }
  }
 },
 "nbformat": 4,
 "nbformat_minor": 5
}
